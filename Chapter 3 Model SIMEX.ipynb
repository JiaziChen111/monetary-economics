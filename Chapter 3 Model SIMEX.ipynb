{
 "metadata": {
  "name": "",
  "signature": "sha256:fde759fb4a2c3d814f3a7fd98256b7f6d26210551b0e17d9ac20df4e4d790163"
 },
 "nbformat": 3,
 "nbformat_minor": 0,
 "worksheets": [
  {
   "cells": [
    {
     "cell_type": "heading",
     "level": 1,
     "metadata": {},
     "source": [
      "Monetary Economics: Chapter 3, Model SIMEX"
     ]
    },
    {
     "cell_type": "code",
     "collapsed": true,
     "input": [
      "# This line configures matplotlib to show figures embedded in the notebook, \n",
      "# instead of opening a new window for each figure. More about that later. \n",
      "# If you are using an old version of IPython, try using '%pylab inline' instead.\n",
      "%matplotlib inline"
     ],
     "language": "python",
     "metadata": {},
     "outputs": [],
     "prompt_number": 1
    },
    {
     "cell_type": "code",
     "collapsed": false,
     "input": [
      "from pylinsolve.model import Model\n",
      "from pylinsolve.utils import is_close,round_solution\n",
      "\n",
      "def create_simex_model():\n",
      "    model = Model()\n",
      "\n",
      "    model.set_var_default(0)\n",
      "    model.var('Cd', desc='Consumption goods demand by households')\n",
      "    model.var('Cs', desc='Consumption goods supply')\n",
      "    model.var('Gs', desc='Government goods, supply')\n",
      "    model.var('Hd', desc='Cash money demanded by households')\n",
      "    model.var('Hh', desc='Cash money held by households')\n",
      "    model.var('Hs', desc='Cash money supplied by the government')\n",
      "    model.var('Nd', desc='Demand for labor')\n",
      "    model.var('Ns', desc='Supply of labor')\n",
      "    model.var('Td', desc='Taxes, demand')\n",
      "    model.var('Ts', desc='Taxes, supply')\n",
      "    model.var('Y', desc='Income = GDP')\n",
      "    model.var('YD', desc='Disposable income of households')\n",
      "    model.var('YDe', desc='Expected disposable income')\n",
      "\n",
      "    model.param('Gd', desc='Government goods, demand', default=20.)\n",
      "    model.param('W', desc='Wage rate', default=1.)\n",
      "    model.param('alpha1', desc='Propensity to consume out of income', default=0.6)\n",
      "    model.param('alpha2', desc='Propensity to consume o of wealth', default=0.4)\n",
      "    model.param('theta', desc='Tax rate', default=0.2)\n",
      "\n",
      "    model.add('Cs = Cd')  # 3.1\n",
      "    model.add('Gs = Gd')  # 3.2\n",
      "    model.add('Ts = Td')  # 3.3\n",
      "    model.add('Ns = Nd')  # 3.4\n",
      "    model.add('YD = (W*Ns) - Ts') # 3.5\n",
      "    model.add('Td = theta * W * Ns')  # 3.6, theta < 1.0\n",
      "    model.add('Cd = alpha1*YDe + alpha2*Hh(-1)') # 3.7E, 0 < alpha2 < alpha1 < 1\n",
      "    model.add('Hs - Hs(-1) =  Gd - Td')  # 3.8\n",
      "    model.add('Hh - Hh(-1) = YD - Cd') # 3.9\n",
      "    model.add('Hd - Hs(-1) = YDe - Cd') # 3.18\n",
      "    model.add('Y = Cs + Gs') # 3.10\n",
      "    model.add('Nd = Y/W') # 3.11\n",
      "    model.add('YDe = YD(-1)')  # 3.20\n",
      "        \n",
      "    return model\n"
     ],
     "language": "python",
     "metadata": {},
     "outputs": [],
     "prompt_number": 2
    },
    {
     "cell_type": "heading",
     "level": 3,
     "metadata": {},
     "source": [
      "Steady state solution"
     ]
    },
    {
     "cell_type": "code",
     "collapsed": false,
     "input": [
      "steady_state = create_simex_model()\n",
      "\n",
      "steady_state.variables['YD'].value = steady_state.evaluate('Gd*(1-theta)')\n",
      "\n",
      "for _ in xrange(100):\n",
      "    steady_state.solve(iterations=100, threshold=1e-5)\n",
      "\n",
      "    if is_close(steady_state.solutions[-2], steady_state.solutions[-1], atol=1e-4):\n",
      "        break"
     ],
     "language": "python",
     "metadata": {},
     "outputs": [],
     "prompt_number": 3
    },
    {
     "cell_type": "code",
     "collapsed": false,
     "input": [
      "from IPython.display import HTML\n",
      "import numpy\n",
      "from pylinsolve.utils import generate_html_table\n",
      "\n",
      "data = list()\n",
      "for var in [('Gd', 'G'), ('Y', 'Y'), ('Ts', 'T'), ('YD', 'YD'), \n",
      "            ('YDe', 'YDe'), ('Cs', 'C')]:\n",
      "    rowdata = list()\n",
      "    rowdata.append(var[1])\n",
      "    for i in [0, 1, 2, -1]:\n",
      "        rowdata.append(str(numpy.round(steady_state.solutions[i][var[0]], decimals=1)))\n",
      "    data.append(rowdata)\n",
      "\n",
      "for var in [('Hs', '&Delta;Hs'), ('Hh', '&Delta;Hh')]:\n",
      "    rowdata = list()\n",
      "    rowdata.append(var[1])\n",
      "    rowdata.append(str(numpy.round(steady_state.solutions[0][var[0]], decimals=1)))\n",
      "    for i in [1, 2, -1]:\n",
      "        rowdata.append(str(numpy.round(steady_state.solutions[i][var[0]] - \n",
      "                                       steady_state.solutions[i-1][var[0]], decimals=1)))\n",
      "    data.append(rowdata)\n",
      "\n",
      "for var in [('Hh', 'H')]:\n",
      "    rowdata = list()\n",
      "    rowdata.append(var[1])\n",
      "    for i in [0, 1, 2, -1]:\n",
      "        rowdata.append(str(numpy.round(steady_state.solutions[i][var[0]], decimals=1)))\n",
      "    data.append(rowdata)\n",
      "\n",
      "for var in [('Hd', '&Delta;Hd')]:\n",
      "    rowdata = list()\n",
      "    rowdata.append(var[1])\n",
      "    rowdata.append(str(numpy.round(steady_state.solutions[0][var[0]], decimals=1)))\n",
      "    for i in [1, 2, -1]:\n",
      "        rowdata.append(str(numpy.round(steady_state.solutions[i][var[0]] - \n",
      "                                       steady_state.solutions[i-1][var[0]], decimals=1)))\n",
      "    data.append(rowdata)\n",
      "\n",
      "for var in [('Hd', 'Hd')]:\n",
      "    rowdata = list()\n",
      "    rowdata.append(var[1])\n",
      "    for i in [0, 1, 2, -1]:\n",
      "        rowdata.append(str(numpy.round(steady_state.solutions[i][var[0]], decimals=1)))\n",
      "    data.append(rowdata)\n",
      "\n",
      "s = generate_html_table(['Period', '1', '2', '3', '&infin;'], data)\n",
      "HTML(s)"
     ],
     "language": "python",
     "metadata": {},
     "outputs": [
      {
       "html": [
        "<table><tr><th>Period</th><th>1</th><th>2</th><th>3</th><th>&infin;</th></tr><tr><td>G</td><td>20.0</td><td>20.0</td><td>20.0</td><td>20.0</td></tr><tr><td>Y</td><td>0.0</td><td>29.6</td><td>39.8</td><td>100.0</td></tr><tr><td>T</td><td>0.0</td><td>5.9</td><td>8.0</td><td>20.0</td></tr><tr><td>YD</td><td>16.0</td><td>23.7</td><td>31.9</td><td>80.0</td></tr><tr><td>YDe</td><td>0.0</td><td>16.0</td><td>23.7</td><td>80.0</td></tr><tr><td>C</td><td>0.0</td><td>9.6</td><td>19.8</td><td>80.0</td></tr><tr><td>&Delta;Hs</td><td>0.0</td><td>14.1</td><td>12.0</td><td>0.0</td></tr><tr><td>&Delta;Hh</td><td>0.0</td><td>14.1</td><td>12.0</td><td>0.0</td></tr><tr><td>H</td><td>0.0</td><td>14.1</td><td>26.1</td><td>80.0</td></tr><tr><td>&Delta;Hd</td><td>0.0</td><td>6.4</td><td>11.5</td><td>0.0</td></tr><tr><td>Hd</td><td>0.0</td><td>6.4</td><td>17.9</td><td>80.0</td></tr></table>"
       ],
       "metadata": {},
       "output_type": "pyout",
       "prompt_number": 4,
       "text": [
        "<IPython.core.display.HTML at 0x106975110>"
       ]
      }
     ],
     "prompt_number": 4
    },
    {
     "cell_type": "heading",
     "level": 6,
     "metadata": {},
     "source": [
      "Figure 3.5"
     ]
    },
    {
     "cell_type": "code",
     "collapsed": false,
     "input": [
      "# Add an extra iteration to show YDe starting from zero\n",
      "xdata = range(len(steady_state.solutions)+1)\n",
      "yddata = [0] + [s['YD'] for s in steady_state.solutions]\n",
      "ydedata = [0] + [s['YDe'] for s in steady_state.solutions]\n",
      "\n",
      "import matplotlib.pyplot as plt\n",
      "\n",
      "fig = plt.figure()\n",
      "axes = fig.add_axes([0.1, 0.1, 1.0, 1.0])\n",
      "axes.tick_params(top='off', right='off')\n",
      "axes.spines['top'].set_visible(False)\n",
      "axes.spines['right'].set_visible(False)\n",
      "axes.set_ylim(0, 85)\n",
      "axes.set_xlim(-2, 50)\n",
      "\n",
      "axes.plot(xdata, yddata, linestyle='--', color='g')  # plot YD\n",
      "axes.plot(xdata, ydedata, linestyle=':', color='r')  # plot YDe\n",
      "plt.axhline(y=80, color='k')\n",
      "\n",
      "# add labels\n",
      "plt.text(2, 72, 'Disposable')\n",
      "plt.text(2, 68, 'Income')\n",
      "plt.text(10, 60, 'Expected disposable income')\n",
      "axes.set_title('Figure 3.5');"
     ],
     "language": "python",
     "metadata": {},
     "outputs": [
      {
       "metadata": {},
       "output_type": "display_data",
       "png": "[encoded data removed]",
       "text": [
        "<matplotlib.figure.Figure at 0x10786ba10>"
       ]
      }
     ],
     "prompt_number": 6
    },
    {
     "cell_type": "heading",
     "level": 3,
     "metadata": {},
     "source": [
      "Model with fixed expected disposable income"
     ]
    },
    {
     "cell_type": "markdown",
     "metadata": {},
     "source": [
      "Create the model with fixed YDe.  As seen below, I modified the model by converting YDe into a parameter and removing the equation that defines YDe."
     ]
    },
    {
     "cell_type": "code",
     "collapsed": false,
     "input": [
      "from pylinsolve.model import Model\n",
      "from pylinsolve.utils import is_close,round_solution\n",
      "\n",
      "def create_simex_yde_model():\n",
      "    model = Model()\n",
      "\n",
      "    model.set_var_default(0)\n",
      "    model.var('Cd', desc='Consumption goods demand by households')\n",
      "    model.var('Cs', desc='Consumption goods supply')\n",
      "    model.var('Gs', desc='Government goods, supply')\n",
      "    model.var('Hd', desc='Cash money demanded by households')\n",
      "    model.var('Hh', desc='Cash money held by households')\n",
      "    model.var('Hs', desc='Cash money supplied by the government')\n",
      "    model.var('Nd', desc='Demand for labor')\n",
      "    model.var('Ns', desc='Supply of labor')\n",
      "    model.var('Td', desc='Taxes, demand')\n",
      "    model.var('Ts', desc='Taxes, supply')\n",
      "    model.var('Y', desc='Income = GDP')\n",
      "    model.var('YD', desc='Disposable income of households')\n",
      "    # model.var('YDe', desc='Expected disposable income')\n",
      "    model.param('YDe', desc='Expected disposable income')\n",
      "\n",
      "    model.param('Gd', desc='Government goods, demand', default=20.)\n",
      "    model.param('W', desc='Wage rate', default=1.)\n",
      "    model.param('alpha1', desc='Propensity to consume out of income', default=0.6)\n",
      "    model.param('alpha2', desc='Propensity to consume o of wealth', default=0.4)\n",
      "    model.param('theta', desc='Tax rate', default=0.2)\n",
      "\n",
      "    model.add('Cs = Cd')  # 3.1\n",
      "    model.add('Gs = Gd')  # 3.2\n",
      "    model.add('Ts = Td')  # 3.3\n",
      "    model.add('Ns = Nd')  # 3.4\n",
      "    model.add('YD = (W*Ns) - Ts') # 3.5\n",
      "    model.add('Td = theta * W * Ns')  # 3.6, theta < 1.0\n",
      "    model.add('Cd = alpha1*YDe + alpha2*Hh(-1)') # 3.7E, 0 < alpha2 < alpha1 < 1\n",
      "    model.add('Hs - Hs(-1) =  Gd - Td')  # 3.8\n",
      "    model.add('Hh - Hh(-1) = YD - Cd') # 3.9\n",
      "    model.add('Hd - Hs(-1) = YDe - Cd') # 3.18\n",
      "    model.add('Y = Cs + Gs') # 3.10\n",
      "    model.add('Nd = Y/W') # 3.11\n",
      "    # model.add('YDe = YD(-1)')  # 3.20\n",
      "        \n",
      "    return model\n"
     ],
     "language": "python",
     "metadata": {},
     "outputs": [],
     "prompt_number": 7
    },
    {
     "cell_type": "code",
     "collapsed": false,
     "input": [
      "# Use the steady state solution as a starting point\n",
      "step_model = create_simex_yde_model()\n",
      "\n",
      "# YDe will be set to the steady state equilibrium\n",
      "step_model.set_variables(steady_state.solutions[-1])\n",
      "step_model.parameters['YDe'].value = steady_state.solutions[-1]['YD']\n",
      "\n",
      "for i in xrange(50):\n",
      "    step_model.solve(iterations=100, threshold=1e-5)\n",
      "    if i == 2:\n",
      "        step_model.parameters['Gd'].value += 5"
     ],
     "language": "python",
     "metadata": {},
     "outputs": [],
     "prompt_number": 8
    },
    {
     "cell_type": "heading",
     "level": 6,
     "metadata": {},
     "source": [
      "Figure 3.6"
     ]
    },
    {
     "cell_type": "code",
     "collapsed": false,
     "input": [
      "xdata = range(len(step_model.solutions))\n",
      "gdata = [s['Gd']/s['theta'] for s in step_model.solutions]\n",
      "ydata = [s['Y'] for s in step_model.solutions]\n",
      "\n",
      "# Now graph G/theta and Y\n",
      "import matplotlib.pyplot as plt\n",
      "\n",
      "fig = plt.figure()\n",
      "axes = fig.add_axes([0.1, 0.1, 1.1, 1.1])\n",
      "axes.tick_params(top='off', right='off')\n",
      "axes.spines['top'].set_visible(False)\n",
      "axes.spines['right'].set_visible(False)\n",
      "axes.set_ylim(97, 129)\n",
      "\n",
      "axes.plot(xdata, gdata, 'r')  # plot G/theta\n",
      "axes.plot(xdata, ydata, linestyle='--', color='g')  # plot Y\n",
      "\n",
      "# add labels\n",
      "plt.text(10, 126, 'Steady-state solution Y*')\n",
      "plt.text(15, 120, 'Income Y')\n",
      "axes.set_title('Figure 3.6');"
     ],
     "language": "python",
     "metadata": {},
     "outputs": [
      {
       "metadata": {},
       "output_type": "display_data",
       "png": "[encoded data removed]",
       "text": [
        "<matplotlib.figure.Figure at 0x107a3ac50>"
       ]
      }
     ],
     "prompt_number": 9
    },
    {
     "cell_type": "heading",
     "level": 6,
     "metadata": {},
     "source": [
      "Figure 3.7"
     ]
    },
    {
     "cell_type": "code",
     "collapsed": false,
     "input": [
      "xdata = range(len(step_model.solutions))\n",
      "hdata = [s['Hh'] for s in step_model.solutions]\n",
      "yddata = [s['YD'] for s in step_model.solutions]\n",
      "cdata = [s['Cd'] for s in step_model.solutions]\n",
      "ydedata = [s['YDe'] for s in step_model.solutions]\n",
      "\n",
      "# Now graph G/theta and Y\n",
      "import matplotlib.pyplot as plt\n",
      "\n",
      "fig = plt.figure()\n",
      "axes = fig.add_axes([0.1, 0.1, 1.1, 1.1])\n",
      "axes.tick_params(top='off', right='off')\n",
      "axes.spines['top'].set_visible(False)\n",
      "axes.spines['right'].set_visible(False)\n",
      "axes.set_ylim(75, 135)\n",
      "\n",
      "axes.plot(xdata, hdata, color='r')  # plot H\n",
      "axes.plot(xdata, yddata, linestyle='-.', color='b')  # plot YD\n",
      "axes.plot(xdata, cdata, linestyle='--', color='g')  # plot C\n",
      "axes.plot(xdata, ydedata, linestyle=':', color='k')  # plot YDe\n",
      "\n",
      "# add labels\n",
      "plt.text(10, 114, 'Wealth H')\n",
      "plt.text(15, 98, 'Disposable income YD')\n",
      "plt.text(17, 90, 'Consumption C')\n",
      "plt.text(15, 82, 'Expected disposable income')\n",
      "axes.set_title('Figure 3.6');"
     ],
     "language": "python",
     "metadata": {},
     "outputs": [
      {
       "metadata": {},
       "output_type": "display_data",
       "png": "[encoded data removed]",
       "text": [
        "<matplotlib.figure.Figure at 0x103996750>"
       ]
      }
     ],
     "prompt_number": 10
    },
    {
     "cell_type": "code",
     "collapsed": false,
     "input": [],
     "language": "python",
     "metadata": {},
     "outputs": []
    }
   ],
   "metadata": {}
  }
 ]
}