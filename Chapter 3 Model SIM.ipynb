{
 "metadata": {
  "name": "",
  "signature": "sha256:76ab78b1b69f4231c7ec5b0761422d2305bd9a1cb93dede4220ece3a60853e1e"
 },
 "nbformat": 3,
 "nbformat_minor": 0,
 "worksheets": [
  {
   "cells": [
    {
     "cell_type": "heading",
     "level": 1,
     "metadata": {},
     "source": [
      "Monetary Economics: Chapter 3"
     ]
    },
    {
     "cell_type": "markdown",
     "metadata": {},
     "source": [
      "From \"Monetary Economics: An Integrated Approach to Credit, Money, Income, Production and Wealth, 2nd ed\" by Wynne Godley and Marc Lavoie, 2012."
     ]
    },
    {
     "cell_type": "heading",
     "level": 2,
     "metadata": {},
     "source": [
      "The Simplest Model with Government Money, Model SIM"
     ]
    },
    {
     "cell_type": "markdown",
     "metadata": {},
     "source": [
      "Assumptions\n",
      "* No private money, only Government money (no private banks)\n",
      "* No profits, *pure labor economy*\n",
      "* Fixed price of labor, unlimited quantity of labor, thus the economy is not supply-constrained."
     ]
    },
    {
     "cell_type": "heading",
     "level": 2,
     "metadata": {},
     "source": [
      "Transactions matrix for Model SIM"
     ]
    },
    {
     "cell_type": "markdown",
     "metadata": {},
     "source": [
      "||1.Households|2.Production|3.Government|&Sigma;|\n",
      "|-------|:------:|:--------:|:--:|-----|\n",
      "|1.Consumption|-C|+C||0|\n",
      "|2.Govt expenditures||+G|-G|0|\n",
      "|3.[Output]||[Y]|||\n",
      "|4.Factor income (wages)|+WB|-WB||0|\n",
      "|5.Taxes|-T||+T|0|\n",
      "|6.Change in the stock of money|-&Delta;H||+&Delta;H|0|\n",
      "|&Sigma;|0|0|0|0|"
     ]
    },
    {
     "cell_type": "markdown",
     "metadata": {},
     "source": [
      "Definition of terms\n",
      "\n",
      "* **C** : Consumption goods demand by households\n",
      "\n",
      "* **G** : Government expenditures\n",
      "\n",
      "* **Y** : National income\n",
      "\n",
      "* **WB** : Wage bill\n",
      "\n",
      "* **T** : Taxes\n",
      "\n",
      "* **&Delta;H** : Change in cash money\n",
      "\n",
      "In this model, people (as consumers and producers of income) have been separated."
     ]
    },
    {
     "cell_type": "heading",
     "level": 2,
     "metadata": {},
     "source": [
      "Behavioral (transactions) matrix for Model SIM"
     ]
    },
    {
     "cell_type": "markdown",
     "metadata": {},
     "source": [
      "||1.Households|2.Production|3.Government|&Sigma;|\n",
      "|----------|:----------:|:----------:|:---:||\n",
      "|1.Consumption|-Cd|+Cs||0|\n",
      "|2.Govt expenditures||+Gs|-Gd|0|\n",
      "|3.[Output]||[Y]|||\n",
      "|4.Factor income (wages)|+W&bull;Ns|-W&bull;Nd||0|\n",
      "|5.Taxes|-Ts||+Td|0|\n",
      "|6.Change in the stock of money|-&Delta;Hh||+&Delta;Hs|0|\n",
      "|&Sigma;|0|0|0|0|"
     ]
    },
    {
     "cell_type": "markdown",
     "metadata": {},
     "source": [
      "Differences from previous matrix:\n",
      "* Each transaction has a suffix, *s*, *d*, and *h*.\n",
      "    * *s* supply\n",
      "    * *d* demand\n",
      "    * *h* household cash\n",
      "* The Wage Bill (WB) has been separated into two parts.\n",
      "    * *W* Wage rate\n",
      "    * *N* employment"
     ]
    },
    {
     "cell_type": "markdown",
     "metadata": {},
     "source": [
      "Definition of terms\n",
      "* **Cd** : Consumption goods demand by households\n",
      "* **Cs** : Consumption goods supply by firms\n",
      "* **Gs** : Services supplied by the government\n",
      "* **Gd** : Services demanded from government \n",
      "* **Y** : National income\n",
      "* **W** : Wage rate\n",
      "* **Ns** : Supply of labor\n",
      "* **Nd** : Demand for labor\n",
      "* **Ts** : Taxes supplied\n",
      "* **Td** : Taxes demanded by government\n",
      "* **&Delta;Hh** : Change in cash money held by households\n",
      "* **&Delta;Hs** : Change in cash money supplied by the central bank"
     ]
    },
    {
     "cell_type": "heading",
     "level": 2,
     "metadata": {},
     "source": [
      "Model SIM"
     ]
    },
    {
     "cell_type": "markdown",
     "metadata": {},
     "source": [
      "> From here, I will be building the model in code.\n",
      "> Because this is the first model, the Python code will\n",
      "> be explained in more detail also."
     ]
    },
    {
     "cell_type": "markdown",
     "metadata": {},
     "source": [
      "The following piece of code is necessary to show the graphics inline for iPython notebooks. To view the graphs, matplotlib is required."
     ]
    },
    {
     "cell_type": "code",
     "collapsed": false,
     "input": [
      "# This line configures matplotlib to show figures embedded in the notebook, \n",
      "# instead of opening a new window for each figure. More about that later. \n",
      "# If you are using an old version of IPython, try using '%pylab inline' instead.\n",
      "%matplotlib inline"
     ],
     "language": "python",
     "metadata": {},
     "outputs": [],
     "prompt_number": 1
    },
    {
     "cell_type": "heading",
     "level": 6,
     "metadata": {},
     "source": [
      "Preliminaries"
     ]
    },
    {
     "cell_type": "markdown",
     "metadata": {},
     "source": [
      "In order to build the model, we must first start off by importing several modules that will be used to build the model. *pylinsolve* is a Python module that I have developed to make it easier to specify and solve linear models.\n",
      "\n",
      "The first line will import the main Model class.  The second line imports several utility functions that will prove useful."
     ]
    },
    {
     "cell_type": "code",
     "collapsed": false,
     "input": [
      "from pylinsolve.model import Model\n",
      "from pylinsolve.utils import is_close,round_solution"
     ],
     "language": "python",
     "metadata": {},
     "outputs": [],
     "prompt_number": 2
    },
    {
     "cell_type": "heading",
     "level": 6,
     "metadata": {},
     "source": [
      "Create the model"
     ]
    },
    {
     "cell_type": "markdown",
     "metadata": {},
     "source": [
      "The first step when developing a pylinsolve model is to create the model.  This is just an empty model for now, but we will be adding the rest of the information to this."
     ]
    },
    {
     "cell_type": "code",
     "collapsed": false,
     "input": [
      "model = Model()"
     ],
     "language": "python",
     "metadata": {},
     "outputs": [],
     "prompt_number": 3
    },
    {
     "cell_type": "heading",
     "level": 6,
     "metadata": {},
     "source": [
      "Define the variables"
     ]
    },
    {
     "cell_type": "markdown",
     "metadata": {},
     "source": [
      "The second step is to define the (endogenous) variables.  These are the variables that we are allowed to manipulate within the model.  This is pretty straigtforward.\n",
      "\n",
      "As a useful step, I define the default value for all variables.  This can be changed on an individual basis.  This is the value that the variable will start off with if nothing is changed."
     ]
    },
    {
     "cell_type": "code",
     "collapsed": false,
     "input": [
      "model.set_var_default(0)"
     ],
     "language": "python",
     "metadata": {},
     "outputs": [],
     "prompt_number": 4
    },
    {
     "cell_type": "markdown",
     "metadata": {},
     "source": [
      "Next, we create the variables used by the sim.  Most of these have been explained above."
     ]
    },
    {
     "cell_type": "code",
     "collapsed": false,
     "input": [
      "model.var('Cd', desc='Consumption goods demand by households')\n",
      "model.var('Cs', desc='Consumption goods supply')\n",
      "model.var('Gs', desc='Government goods, supply')\n",
      "model.var('Hh', desc='Cash money held by households')\n",
      "model.var('Hs', desc='Cash money supplied by the government')\n",
      "model.var('Nd', desc='Demand for labor')\n",
      "model.var('Ns', desc='Supply of labor')\n",
      "model.var('Td', desc='Taxes, demand')\n",
      "model.var('Ts', desc='Taxes, supply')\n",
      "model.var('Y', desc='Income = GDP')\n",
      "model.var('YD', desc='Disposable income of households');"
     ],
     "language": "python",
     "metadata": {},
     "outputs": [],
     "prompt_number": 5
    },
    {
     "cell_type": "markdown",
     "metadata": {},
     "source": [
      "As an aside, multiple variables can be created by the following code.  But the above is more descriptive.\n",
      "\n",
      "```python\n",
      "model.vars('Y', 'YD', 'Ts', 'Td', 'Hs', 'Hh', 'Gs', 'Cs',\n",
      "           'Cd', 'Ns', 'Nd')\n",
      "```\n",
      "\n",
      "The value of the variables may also be changed mid-iteration.  They will then be used to seed the value of the next iteration.\n",
      "\n",
      "For example\n",
      "```python\n",
      "varx = model.var('x')\n",
      "\n",
      "# ... later\n",
      "varx.value = 22\n",
      "# this will also work\n",
      "model.variables['x'].value = 22\n",
      "```"
     ]
    },
    {
     "cell_type": "markdown",
     "metadata": {},
     "source": [
      "Aside: the semicolon ';' at the end of the last line of code is an iPython artifact, and is not needed by the python code. It is used to suppress output by the iPython interpreter."
     ]
    },
    {
     "cell_type": "heading",
     "level": 6,
     "metadata": {},
     "source": [
      "Define the parameters"
     ]
    },
    {
     "cell_type": "markdown",
     "metadata": {},
     "source": [
      "The next step is to define the parameters. I do not differentiate between exogenous variables and parameters since both are set outside of the model. The solver will not be able to change these values.  However, the user may change these values between calls to the solver.\n",
      "\n",
      "Like the variables, there is a call that may be made to set a default value for all parameters, but I will be creating the parameters with their default values.  The call would look like this\n",
      "```python\n",
      "model.set_parameter_initial(1.0)\n",
      "```\n",
      "\n",
      "In addition the parameter values could be changed like this:\n",
      "```python\n",
      "Gd = model.param('Gd', initial=10)\n",
      "# ...\n",
      "# at some later time\n",
      "Gd.value = 20\n",
      "# or this would work also\n",
      "model.parameters['Gd'].value = 20\n",
      "```"
     ]
    },
    {
     "cell_type": "markdown",
     "metadata": {},
     "source": [
      "Some of the parameters (alpha1, alpha2 and theta) have not been explained yet, but will be explained when we add the equations that use them."
     ]
    },
    {
     "cell_type": "code",
     "collapsed": true,
     "input": [
      "model.param('Gd', desc='Government goods, demand', default=20.)\n",
      "model.param('W', desc='Wage rate', default=1.)\n",
      "model.param('alpha1', desc='Propensity to consume out of income', default=0.6)\n",
      "model.param('alpha2', desc='Propensity to consume o of wealth', default=0.4)\n",
      "model.param('theta', desc='Tax rate', default=0.2);"
     ],
     "language": "python",
     "metadata": {},
     "outputs": [],
     "prompt_number": 6
    },
    {
     "cell_type": "heading",
     "level": 6,
     "metadata": {},
     "source": [
      "Define the equations"
     ]
    },
    {
     "cell_type": "markdown",
     "metadata": {},
     "source": [
      "Adding an equation is just adding the textual form of the equation.  There are some restrictions. Linear systems only."
     ]
    },
    {
     "cell_type": "code",
     "collapsed": false,
     "input": [
      "model.add('Cs = Cd')  # 3.1\n",
      "model.add('Gs = Gd')  # 3.2\n",
      "model.add('Ts = Td')  # 3.3\n",
      "model.add('Ns = Nd'); # 3.4"
     ],
     "language": "python",
     "metadata": {},
     "outputs": [],
     "prompt_number": 7
    },
    {
     "cell_type": "markdown",
     "metadata": {},
     "source": [
      "These four equations imply that demand equals supply for this period, no supply constraints of any kind."
     ]
    },
    {
     "cell_type": "code",
     "collapsed": false,
     "input": [
      "model.add('YD = (W*Ns) - Ts'); # 3.5"
     ],
     "language": "python",
     "metadata": {},
     "outputs": [],
     "prompt_number": 8
    },
    {
     "cell_type": "markdown",
     "metadata": {},
     "source": [
      "Disposable income (*YD*) is the wages earned by households minus taxes."
     ]
    },
    {
     "cell_type": "code",
     "collapsed": false,
     "input": [
      "model.add('Td = theta * W * Ns');  # 3.6, theta < 1.0"
     ],
     "language": "python",
     "metadata": {},
     "outputs": [],
     "prompt_number": 9
    },
    {
     "cell_type": "markdown",
     "metadata": {},
     "source": [
      "Taxes are a fixed proportion (*theta*) of income.  *theta* is decided by the government and is exogenous to the model."
     ]
    },
    {
     "cell_type": "code",
     "collapsed": false,
     "input": [
      "model.add('Cd = alpha1*YD + alpha2*Hh(-1)'); # 3.7, 0 < alpha2 < alpha1 < 1"
     ],
     "language": "python",
     "metadata": {},
     "outputs": [],
     "prompt_number": 10
    },
    {
     "cell_type": "markdown",
     "metadata": {},
     "source": [
      "This is a consumption function, the rates at which housholds consume.  This is a combination of consumption of inherited wealth (*Hh(-1)*) and post-tax income (*YD*)."
     ]
    },
    {
     "cell_type": "code",
     "collapsed": false,
     "input": [
      "model.add('Hs - Hs(-1) =  Gd - Td');  # 3.8"
     ],
     "language": "python",
     "metadata": {},
     "outputs": [],
     "prompt_number": 11
    },
    {
     "cell_type": "markdown",
     "metadata": {},
     "source": [
      "This comes from the transaction-flow matrix and represents the governments budget constraint.  Government expenditures that are not paid for by taxes (*Gd-Td*), must be covered by differences in the money supply."
     ]
    },
    {
     "cell_type": "code",
     "collapsed": false,
     "input": [
      "model.add('Hh - Hh(-1) = YD - Cd'); # 3.9"
     ],
     "language": "python",
     "metadata": {},
     "outputs": [],
     "prompt_number": 12
    },
    {
     "cell_type": "markdown",
     "metadata": {},
     "source": [
      "The difference in the cash that households carry is the difference between their income and their consumption."
     ]
    },
    {
     "cell_type": "code",
     "collapsed": false,
     "input": [
      "model.add('Y = Cs + Gs'); # 3.10"
     ],
     "language": "python",
     "metadata": {},
     "outputs": [],
     "prompt_number": 13
    },
    {
     "cell_type": "markdown",
     "metadata": {},
     "source": [
      "The determination of national income."
     ]
    },
    {
     "cell_type": "code",
     "collapsed": false,
     "input": [
      "model.add('Nd = Y/W'); # 3.11"
     ],
     "language": "python",
     "metadata": {},
     "outputs": [],
     "prompt_number": 14
    },
    {
     "cell_type": "markdown",
     "metadata": {},
     "source": [
      "The determination of employment."
     ]
    },
    {
     "cell_type": "markdown",
     "metadata": {},
     "source": [
      "We now have 11 equations and 11 unknowns. **Each of the eleven unknowns has been set on the left-hand side of an equation** (This implies that we can use the Gauss-Seidel algorithm to iterate to a solution, convergence is not guaranteed but we can try.)"
     ]
    },
    {
     "cell_type": "heading",
     "level": 6,
     "metadata": {},
     "source": [
      "Solve"
     ]
    },
    {
     "cell_type": "markdown",
     "metadata": {},
     "source": [
      "We have set the default for all of the variables to 0, and that will be used as an initial solution."
     ]
    },
    {
     "cell_type": "code",
     "collapsed": false,
     "input": [
      "model.solve(iterations=100, threshold=1e-4);"
     ],
     "language": "python",
     "metadata": {},
     "outputs": [],
     "prompt_number": 15
    },
    {
     "cell_type": "code",
     "collapsed": false,
     "input": [
      "prev = round_solution(model.solutions[-2], decimals=1)\n",
      "solution = round_solution(model.solutions[-1], decimals=1)\n",
      "print \"Y         : \" + str(solution['Y'])\n",
      "print \"T         : \" + str(solution['Ts'])\n",
      "print \"YD        : \" + str(solution['YD'])\n",
      "print \"C         : \" + str(solution['Cs'])\n",
      "print \"Hs-Hs(-1) : \" + str(solution['Hs'] - prev['Hs'])\n",
      "print \"Hh-Hh(-1) : \" + str(solution['Hh'] - prev['Hh'])\n",
      "print \"H         : \" + str(solution['Hh'])"
     ],
     "language": "python",
     "metadata": {},
     "outputs": [
      {
       "output_type": "stream",
       "stream": "stdout",
       "text": [
        "Y         : 38.5\n",
        "T         : 7.7\n",
        "YD        : 30.8\n",
        "C         : 18.5\n",
        "Hs-Hs(-1) : 12.3\n",
        "Hh-Hh(-1) : 12.3\n",
        "H         : 12.3\n"
       ]
      }
     ],
     "prompt_number": 16
    },
    {
     "cell_type": "heading",
     "level": 3,
     "metadata": {},
     "source": [
      "The code for the full model"
     ]
    },
    {
     "cell_type": "markdown",
     "metadata": {},
     "source": [
      "To make the model easier to manipulate, I will encapsulate model creation into a single function."
     ]
    },
    {
     "cell_type": "code",
     "collapsed": false,
     "input": [
      "from pylinsolve.model import Model\n",
      "from pylinsolve.utils import is_close, round_solution\n",
      "\n",
      "\n",
      "def create_model():\n",
      "    model = Model()\n",
      "\n",
      "    model.set_var_default(0)\n",
      "    model.var('Cd', desc='Consumption goods demand by households')\n",
      "    model.var('Cs', desc='Consumption goods supply')\n",
      "    model.var('Gs', desc='Government goods, supply')\n",
      "    model.var('Hh', desc='Cash money held by households')\n",
      "    model.var('Hs', desc='Cash money supplied by the government')\n",
      "    model.var('Nd', desc='Demand for labor')\n",
      "    model.var('Ns', desc='Supply of labor')\n",
      "    model.var('Td', desc='Taxes, demand')\n",
      "    model.var('Ts', desc='Taxes, supply')\n",
      "    model.var('Y', desc='Income = GDP')\n",
      "    model.var('YD', desc='Disposable income of households')\n",
      "\n",
      "    model.param('Gd', desc='Government goods, demand', default=20.)\n",
      "    model.param('W', desc='Wage rate', default=1.)\n",
      "    model.param('alpha1', desc='Propensity to consume out of income', default=0.6)\n",
      "    model.param('alpha2', desc='Propensity to consume o of wealth', default=0.4)\n",
      "    model.param('theta', desc='Tax rate', default=0.2)\n",
      "\n",
      "    model.add('Cs = Cd')  # 3.1\n",
      "    model.add('Gs = Gd')  # 3.2\n",
      "    model.add('Ts = Td')  # 3.3\n",
      "    model.add('Ns = Nd')  # 3.4\n",
      "    model.add('YD = (W*Ns) - Ts') # 3.5\n",
      "    model.add('Td = theta * W * Ns')  # 3.6, theta < 1.0\n",
      "    model.add('Cd = alpha1*YD + alpha2*Hh(-1)') # 3.7, 0 < alpha2 < alpha1 < 1\n",
      "    model.add('Hs - Hs(-1) =  Gd - Td')  # 3.8\n",
      "    model.add('Hh - Hh(-1) = YD - Cd') # 3.9\n",
      "    model.add('Y = Cs + Gs') # 3.10\n",
      "    model.add('Nd = Y/W') # 3.11\n",
      "    \n",
      "    return model\n"
     ],
     "language": "python",
     "metadata": {},
     "outputs": [],
     "prompt_number": 17
    },
    {
     "cell_type": "markdown",
     "metadata": {},
     "source": [
      "Now we can run the simulation using the model."
     ]
    },
    {
     "cell_type": "code",
     "collapsed": false,
     "input": [
      "model = create_model()\n",
      "model.solve(iterations=100, threshold=1e-5)\n",
      "\n",
      "prev = round_solution(model.solutions[-2], decimals=1)\n",
      "solution = round_solution(model.solutions[-1], decimals=1)\n",
      "print \"Y         : \" + str(solution['Y'])\n",
      "print \"T         : \" + str(solution['Ts'])\n",
      "print \"YD        : \" + str(solution['YD'])\n",
      "print \"C         : \" + str(solution['Cs'])\n",
      "print \"Hs-Hs(-1) : \" + str(solution['Hs'] - prev['Hs'])\n",
      "print \"Hh-Hh(-1) : \" + str(solution['Hh'] - prev['Hh'])\n",
      "print \"H         : \" + str(solution['Hh'])"
     ],
     "language": "python",
     "metadata": {},
     "outputs": [
      {
       "output_type": "stream",
       "stream": "stdout",
       "text": [
        "Y         : 38.5\n",
        "T         : 7.7\n",
        "YD        : 30.8\n",
        "C         : 18.5\n",
        "Hs-Hs(-1) : 12.3\n",
        "Hh-Hh(-1) : 12.3\n",
        "H         : 12.3\n"
       ]
      }
     ],
     "prompt_number": 18
    },
    {
     "cell_type": "heading",
     "level": 3,
     "metadata": {},
     "source": [
      "Steady-state solution"
     ]
    },
    {
     "cell_type": "markdown",
     "metadata": {},
     "source": [
      "We now generate the steady-state solution by iterating until the solutions converge."
     ]
    },
    {
     "cell_type": "code",
     "collapsed": false,
     "input": [
      "steady_state = create_model()\n",
      "for _ in xrange(100):\n",
      "    steady_state.solve(iterations=100, threshold=1e-5)\n",
      "\n",
      "    prev_soln = steady_state.solutions[-2]\n",
      "    soln = steady_state.solutions[-1]\n",
      "    if is_close(prev_soln, soln, atol=1e-4):\n",
      "        break\n",
      "\n",
      "prev = round_solution(steady_state.solutions[-2], decimals=1)\n",
      "solution = round_solution(steady_state.solutions[-1], decimals=1)\n",
      "print \"Y         : \" + str(solution['Y'])\n",
      "print \"T         : \" + str(solution['Ts'])\n",
      "print \"YD        : \" + str(solution['YD'])\n",
      "print \"C         : \" + str(solution['Cs'])\n",
      "print \"Hs-Hs(-1) : \" + str(solution['Hs'] - prev['Hs'])\n",
      "print \"Hh-Hh(-1) : \" + str(solution['Hh'] - prev['Hh'])\n",
      "print \"H         : \" + str(solution['Hh'])\n"
     ],
     "language": "python",
     "metadata": {},
     "outputs": [
      {
       "output_type": "stream",
       "stream": "stdout",
       "text": [
        "Y         : 100.0\n",
        "T         : 20.0\n",
        "YD        : 80.0\n",
        "C         : 80.0\n",
        "Hs-Hs(-1) : 0.0\n",
        "Hh-Hh(-1) : 0.0\n",
        "H         : 80.0\n"
       ]
      }
     ],
     "prompt_number": 19
    },
    {
     "cell_type": "heading",
     "level": 6,
     "metadata": {},
     "source": [
      "Table 3.4"
     ]
    },
    {
     "cell_type": "markdown",
     "metadata": {},
     "source": [
      "We can also generate table 3.4"
     ]
    },
    {
     "cell_type": "code",
     "collapsed": false,
     "input": [
      "from IPython.display import HTML\n",
      "import numpy\n",
      "from pylinsolve.utils import generate_html_table\n",
      "\n",
      "data = list()\n",
      "for var in [('Gd', 'G'), ('Y', 'Y'), ('Ts', 'T'), ('YD', 'YD'), ('Cs', 'C')]:\n",
      "    rowdata = list()\n",
      "    rowdata.append(var[1])\n",
      "    for i in [0, 1, 2, -1]:\n",
      "        rowdata.append(str(numpy.round(steady_state.solutions[i][var[0]], decimals=1)))\n",
      "    data.append(rowdata)\n",
      "\n",
      "for var in [('Hs', '&Delta;Hs'), ('Hh', '&Delta;Hh')]:\n",
      "    rowdata = list()\n",
      "    rowdata.append(var[1])\n",
      "    rowdata.append(str(numpy.round(steady_state.solutions[0][var[0]], decimals=1)))\n",
      "    for i in [1, 2, -1]:\n",
      "        rowdata.append(str(numpy.round(steady_state.solutions[i][var[0]] - \n",
      "                                       steady_state.solutions[i-1][var[0]], decimals=1)))\n",
      "    data.append(rowdata)\n",
      "\n",
      "for var in [('Hh', 'H')]:\n",
      "    rowdata = list()\n",
      "    rowdata.append(var[1])\n",
      "    for i in [0, 1, 2, -1]:\n",
      "        rowdata.append(str(numpy.round(steady_state.solutions[i][var[0]], decimals=1)))\n",
      "    data.append(rowdata)\n",
      "\n",
      "s = generate_html_table(['Period', '1', '2', '3', '&infin;'], data)\n",
      "HTML(s)"
     ],
     "language": "python",
     "metadata": {},
     "outputs": [
      {
       "html": [
        "<table><tr><th>Period</th><th>1</th><th>2</th><th>3</th><th>&infin;</th></tr><tr><td>G</td><td>20.0</td><td>20.0</td><td>20.0</td><td>20.0</td></tr><tr><td>Y</td><td>0.0</td><td>38.5</td><td>47.9</td><td>100.0</td></tr><tr><td>T</td><td>0.0</td><td>7.7</td><td>9.6</td><td>20.0</td></tr><tr><td>YD</td><td>0.0</td><td>30.8</td><td>38.3</td><td>80.0</td></tr><tr><td>C</td><td>0.0</td><td>18.5</td><td>27.9</td><td>80.0</td></tr><tr><td>&Delta;Hs</td><td>0.0</td><td>12.3</td><td>10.4</td><td>0.0</td></tr><tr><td>&Delta;Hh</td><td>0.0</td><td>12.3</td><td>10.4</td><td>0.0</td></tr><tr><td>H</td><td>0.0</td><td>12.3</td><td>22.7</td><td>80.0</td></tr></table>"
       ],
       "metadata": {},
       "output_type": "pyout",
       "prompt_number": 20,
       "text": [
        "<IPython.core.display.HTML at 0x110361910>"
       ]
      }
     ],
     "prompt_number": 20
    },
    {
     "cell_type": "heading",
     "level": 6,
     "metadata": {},
     "source": [
      "Figure 3.1"
     ]
    },
    {
     "cell_type": "markdown",
     "metadata": {},
     "source": [
      "Calculate the solution but with an permanent increase in government expenditures (+5) and starting from the steady state solution."
     ]
    },
    {
     "cell_type": "code",
     "collapsed": false,
     "input": [
      "# Use the steady state solution as a starting point\n",
      "step_model = create_model()\n",
      "step_model.set_variables(steady_state.solutions[-1])\n",
      "for i in xrange(50):\n",
      "    step_model.solve(iterations=100, threshold=1e-5)\n",
      "    if i == 2:\n",
      "        step_model.parameters['Gd'].value += 5"
     ],
     "language": "python",
     "metadata": {},
     "outputs": [],
     "prompt_number": 21
    },
    {
     "cell_type": "code",
     "collapsed": false,
     "input": [
      "caption = '''\n",
      "    Figure 3.1  Impact on national income Y and the steady state solution Y*,\n",
      "    following a permanent increase in government expenditures ($\\\\bigtriangleup$G = 5).'''\n",
      "\n",
      "xdata = range(len(step_model.solutions))\n",
      "gdata = [s['Gd']/s['theta'] for s in step_model.solutions]\n",
      "ydata = [s['Y'] for s in step_model.solutions]\n",
      "\n",
      "# Now graph G/theta and Y\n",
      "import matplotlib.pyplot as plt\n",
      "\n",
      "fig = plt.figure()\n",
      "axes = fig.add_axes([0.1, 0.1, 1.1, 1.1])\n",
      "axes.spines['top'].set_visible(False)\n",
      "axes.spines['right'].set_visible(False)\n",
      "axes.set_ylim(97, 129)\n",
      "\n",
      "axes.plot(xdata, gdata, 'r')  # plot G/theta\n",
      "axes.plot(xdata, ydata, linestyle='--', color='g')  # plot Y\n",
      "\n",
      "# add labels\n",
      "plt.text(10, 126, 'Steady-state solution Y*')\n",
      "plt.text(15, 120, 'Income Y')\n",
      "fig.text(.1, -.1, caption);"
     ],
     "language": "python",
     "metadata": {},
     "outputs": [
      {
       "metadata": {},
       "output_type": "display_data",
       "png": "[encoded data removed]",
       "text": [
        "<matplotlib.figure.Figure at 0x110361cd0>"
       ]
      }
     ],
     "prompt_number": 22
    },
    {
     "cell_type": "heading",
     "level": 6,
     "metadata": {},
     "source": [
      "Figure 3.2"
     ]
    },
    {
     "cell_type": "code",
     "collapsed": false,
     "input": [
      "caption = '''\n",
      "    Figure 3.2  Disposable income and consumption starting from scratch (Table 3.4)'''\n",
      "xdata = range(len(steady_state.solutions))\n",
      "cdata = [s['Cd'] for s in steady_state.solutions]\n",
      "yddata = [s['YD'] for s in steady_state.solutions]\n",
      "\n",
      "import matplotlib.pyplot as plt\n",
      "\n",
      "fig = plt.figure()\n",
      "axes = fig.add_axes([0.1, 0.1, 1.0, 1.0])\n",
      "axes.tick_params(top='off', right='off')\n",
      "axes.spines['top'].set_visible(False)\n",
      "axes.spines['right'].set_visible(False)\n",
      "axes.set_ylim(0, 85)\n",
      "axes.set_xlim(-2, 50)\n",
      "\n",
      "axes.plot(xdata, cdata, linestyle=':', color='r')  # plot C\n",
      "axes.plot(xdata, yddata, linestyle='--', color='g')  # plot YD\n",
      "plt.axhline(y=80, color='k')\n",
      "\n",
      "# add labels\n",
      "plt.text(2, 72, 'Disposable')\n",
      "plt.text(2, 68, 'Income YD')\n",
      "plt.text(10, 60, 'Consumption C')\n",
      "fig.text(0.1, 0, caption);\n"
     ],
     "language": "python",
     "metadata": {},
     "outputs": [
      {
       "metadata": {},
       "output_type": "display_data",
       "png": "[encoded data removed]",
       "text": [
        "<matplotlib.figure.Figure at 0x110537190>"
       ]
      }
     ],
     "prompt_number": 23
    },
    {
     "cell_type": "heading",
     "level": 6,
     "metadata": {},
     "source": [
      "Figure 3.3"
     ]
    },
    {
     "cell_type": "code",
     "collapsed": false,
     "input": [
      "caption = '''\n",
      "    Figure 3.3  Wealth cange and wealth level starting from scratch (Table 3.4)'''\n",
      "xdata = range(len(steady_state.solutions))\n",
      "hdata = [s['Hh'] for s in steady_state.solutions]\n",
      "deltahdata = [s['Hh'] for s in steady_state.solutions]\n",
      "for i in xrange(1, len(steady_state.solutions)):\n",
      "    deltahdata[i] -= hdata[i-1]\n",
      "\n",
      "import matplotlib.pyplot as plt\n",
      "\n",
      "fig = plt.figure()\n",
      "axes = fig.add_axes([0.1, 0.1, 1.0, 1.0])\n",
      "axes.tick_params(top='off')\n",
      "axes.set_ylim(0, 13)\n",
      "axes.set_xlim(-2, 50)\n",
      "axes.plot(xdata, deltahdata, linestyle='--', color='g')\n",
      "\n",
      "axes2 = axes.twinx()\n",
      "axes2.set_ylim(0, 85)\n",
      "axes2.set_xlim(-2, 50)\n",
      "axes2.plot(xdata, hdata, 'r')\n",
      "\n",
      "# add labels\n",
      "plt.text(20, 16, 'Household saving')\n",
      "plt.text(20, 12, '(the change in the money stock)')\n",
      "plt.text(20, 70, 'Wealth level H (money stock)')\n",
      "\n",
      "fig.text(0.1, -0.05, caption);\n"
     ],
     "language": "python",
     "metadata": {},
     "outputs": [
      {
       "metadata": {},
       "output_type": "display_data",
       "png": "[encoded data removed]",
       "text": [
        "<matplotlib.figure.Figure at 0x1105bde10>"
       ]
      }
     ],
     "prompt_number": 24
    },
    {
     "cell_type": "heading",
     "level": 6,
     "metadata": {},
     "source": [
      "Figure 3.4"
     ]
    },
    {
     "cell_type": "code",
     "collapsed": false,
     "input": [
      "caption = '''\n",
      "    Figure 3.4  Evolution of wealth, target wealth, consumption and disposable income\n",
      "    following an increase in government expenditures ($\\\\bigtriangleup$G = 5) Model SIM '''\n",
      "xdata = range(len(step_model.solutions))\n",
      "hdata = [s['Hh'] for s in step_model.solutions]\n",
      "cdata = [s['Cs'] for s in step_model.solutions]\n",
      "vtdata = [s['YD']*(1.-s['alpha1'])/s['alpha2'] for s in step_model.solutions]\n",
      "\n",
      "import matplotlib.pyplot as plt\n",
      "\n",
      "fig = plt.figure()\n",
      "axes = fig.add_axes([0.1, 0.1, 1.0, 1.0])\n",
      "axes.tick_params(top='off', right='off')\n",
      "axes.spines['top'].set_visible(False)\n",
      "axes.spines['right'].set_visible(False)\n",
      "axes.set_ylim(78, 102)\n",
      "axes.set_xlim(-2, 50)\n",
      "axes.plot(xdata, hdata, linestyle='-', color='g', \n",
      "          label='Wealth')\n",
      "axes.plot(xdata, cdata, linestyle=':', color='r',\n",
      "          label='Consumption')\n",
      "axes.plot(xdata, vtdata, linestyle='--', color='b',\n",
      "          label='Target wealth (and disposable income)')\n",
      "\n",
      "plt.legend(loc=(0.35,0.2), frameon=False)\n",
      "\n",
      "fig.text(0.1, -0.05, caption);\n"
     ],
     "language": "python",
     "metadata": {},
     "outputs": [
      {
       "metadata": {},
       "output_type": "display_data",
       "png": "[encoded data removed]",
       "text": [
        "<matplotlib.figure.Figure at 0x10c4e0290>"
       ]
      }
     ],
     "prompt_number": 25
    },
    {
     "cell_type": "heading",
     "level": 6,
     "metadata": {},
     "source": [
      "Figure 3.8"
     ]
    },
    {
     "cell_type": "markdown",
     "metadata": {},
     "source": [
      "We will need to generate solutions that involve a change in alpha1 (from 0.6 to 0.7)."
     ]
    },
    {
     "cell_type": "code",
     "collapsed": false,
     "input": [
      "# Use the steady state solution as a starting point\n",
      "alpha_model = create_model()\n",
      "alpha_model.set_variables(steady_state.solutions[-1])\n",
      "for i in xrange(50):\n",
      "    alpha_model.solve(iterations=100, threshold=1e-5)\n",
      "    if i == 2:\n",
      "        alpha_model.parameters['alpha1'].value = 0.7"
     ],
     "language": "python",
     "metadata": {},
     "outputs": [],
     "prompt_number": 26
    },
    {
     "cell_type": "code",
     "collapsed": false,
     "input": [
      "caption = '''\n",
      "    Figure 3.8  Evolution of consumption, disposable income and wealth following\n",
      "    an increase in the propensity to consume out of current income \n",
      "    ($\\\\alpha_1$ moves from 0.6 to 0.7)'''\n",
      "xdata = range(len(alpha_model.solutions))\n",
      "hdata = [s['Hh'] for s in alpha_model.solutions]\n",
      "cdata = [s['Cs'] for s in alpha_model.solutions]\n",
      "vtdata = [s['YD'] for s in alpha_model.solutions]\n",
      "\n",
      "import matplotlib.pyplot as plt\n",
      "\n",
      "fig = plt.figure()\n",
      "axes = fig.add_axes([0.1, 0.1, 1.0, 1.0])\n",
      "axes.tick_params(top='off', right='off')\n",
      "axes.spines['top'].set_visible(False)\n",
      "axes.spines['right'].set_visible(False)\n",
      "axes.set_ylim(58, 100)\n",
      "axes.set_xlim(-2, 50)\n",
      "axes.plot(xdata, hdata, linestyle='-', color='g')\n",
      "axes.plot(xdata, cdata, linestyle=':', color='r')\n",
      "axes.plot(xdata, vtdata, linestyle='--', color='b')\n",
      "\n",
      "plt.text(6, 97, 'Consumption')\n",
      "plt.text(8, 79, 'Disposable income')\n",
      "plt.text(20, 62, 'Wealth')\n",
      "\n",
      "fig.text(0.1, -0.1, caption);\n"
     ],
     "language": "python",
     "metadata": {},
     "outputs": [
      {
       "metadata": {},
       "output_type": "display_data",
       "png": "[encoded data removed]",
       "text": [
        "<matplotlib.figure.Figure at 0x11058df90>"
       ]
      }
     ],
     "prompt_number": 27
    },
    {
     "cell_type": "code",
     "collapsed": false,
     "input": [],
     "language": "python",
     "metadata": {},
     "outputs": []
    }
   ],
   "metadata": {}
  }
 ]
}